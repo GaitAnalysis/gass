{
 "cells": [
  {
   "cell_type": "code",
   "execution_count": 1,
   "metadata": {},
   "outputs": [],
   "source": [
    "import json\n",
    "import torch\n",
    "import torch.nn as nn\n",
    "import torch.nn.functional as F"
   ]
  },
  {
   "cell_type": "code",
   "execution_count": null,
   "metadata": {},
   "outputs": [],
   "source": []
  },
  {
   "cell_type": "code",
   "execution_count": 2,
   "metadata": {},
   "outputs": [],
   "source": [
    "from pathlib import Path\n",
    "from torch.utils.data import Dataset, DataLoader\n",
    "from tqdm import tqdm\n",
    "\n",
    "healthy_path = Path(\"~/workspace/datasets/gaitdata/outputs/healthy_converted\").expanduser()\n",
    "unhealthy_path = Path(\"~/workspace/datasets/gaitdata/outputs/unhealthy_converted_final\").expanduser()\n",
    "\n",
    "healthy_files = list(healthy_path.glob(\"**/*.json\"))\n",
    "unhealthy_files = list(unhealthy_path.glob(\"**/*.json\"))\n",
    "\n",
    "healthy_inputs = []\n",
    "unhealthy_inputs = []\n",
    "\n",
    "for file in healthy_files:\n",
    "    data = []\n",
    "    for line in open(file):\n",
    "        data.append(json.loads(line))\n",
    "    try:\n",
    "        data = torch.tensor(data, dtype=torch.float32)\n",
    "    except:\n",
    "        continue\n",
    "    data = data.view(data.shape[0], -1)\n",
    "    healthy_inputs.append(data)\n",
    "\n",
    "for file in unhealthy_files:\n",
    "    data = []\n",
    "    for line in open(file):\n",
    "        data.append(json.loads(line))\n",
    "    try:\n",
    "        data = torch.tensor(data, dtype=torch.float32)\n",
    "    except:\n",
    "        continue\n",
    "    data = data.view(data.shape[0], -1)\n",
    "    unhealthy_inputs.append(data)"
   ]
  },
  {
   "attachments": {},
   "cell_type": "markdown",
   "metadata": {},
   "source": []
  },
  {
   "cell_type": "code",
   "execution_count": null,
   "metadata": {},
   "outputs": [],
   "source": []
  },
  {
   "cell_type": "code",
   "execution_count": 3,
   "metadata": {},
   "outputs": [
    {
     "name": "stdout",
     "output_type": "stream",
     "text": [
      "189\n"
     ]
    }
   ],
   "source": [
    "# build dataset, healthy = 0, unhealthy = 1\n",
    "dataset = []\n",
    "for data in healthy_inputs:\n",
    "    dataset.append((data, F.one_hot(torch.tensor(0), num_classes=2)))\n",
    "for data in unhealthy_inputs:\n",
    "    dataset.append((data, F.one_hot(torch.tensor(1), num_classes=2)))\n",
    "\n",
    "import random\n",
    "random.shuffle(dataset)\n",
    "train_dataset = dataset[:int(len(dataset) * 0.8)]\n",
    "test_dataset = dataset[int(len(dataset) * 0.8):]\n",
    "# build dataloader\n",
    "train_dataloader = DataLoader(train_dataset, batch_size=1, shuffle=True)\n",
    "test_dataloader = DataLoader(test_dataset, batch_size=1, shuffle=True)"
   ]
  },
  {
   "cell_type": "code",
   "execution_count": 4,
   "metadata": {},
   "outputs": [
    {
     "name": "stdout",
     "output_type": "stream",
     "text": [
      "189\n",
      "157\n",
      "32\n"
     ]
    }
   ],
   "source": [
    "print(len(dataset))\n",
    "print(len(healthy_inputs))\n",
    "print(len(unhealthy_inputs))"
   ]
  },
  {
   "cell_type": "code",
   "execution_count": 5,
   "metadata": {},
   "outputs": [],
   "source": [
    "class GaitClassifier(nn.Module):\n",
    "    def __init__(self, input_size, hidden_size, num_classes=2):\n",
    "        super(GaitClassifier, self).__init__()\n",
    "        self.input_size = input_size\n",
    "        self.hidden_size = hidden_size\n",
    "        self.num_classes = num_classes\n",
    "        # input_shape (seq_len, input_size)\n",
    "        # output_shape (num_classes)\n",
    "        self.lstm = nn.LSTM(input_size, hidden_size, batch_first=True)\n",
    "        self.fc1 = nn.Linear(hidden_size, hidden_size * 4)\n",
    "        self.fc2 = nn.Linear(hidden_size * 4, hidden_size * 4)\n",
    "        self.fc3 = nn.Linear(hidden_size * 4, hidden_size)\n",
    "        self.fc4 = nn.Linear(hidden_size, num_classes)\n",
    "\n",
    "        # print parameter count\n",
    "        print(f\"parameter count: {sum(p.numel() for p in self.parameters())}\")\n",
    "\n",
    "    \n",
    "    def forward(self, x):\n",
    "        # x shape (seq_len, input_size)\n",
    "        # out shape (hidden_size)\n",
    "        out, _ = self.lstm(x)\n",
    "        out = self.fc1(out[-1, :])\n",
    "        out = F.relu(out)\n",
    "        out = self.fc2(out)\n",
    "        out = F.relu(out)\n",
    "        out = self.fc3(out)\n",
    "        out = F.relu(out)\n",
    "        out = self.fc4(out)\n",
    "        return out\n"
   ]
  },
  {
   "cell_type": "code",
   "execution_count": 6,
   "metadata": {},
   "outputs": [
    {
     "name": "stdout",
     "output_type": "stream",
     "text": [
      "parameter count: 470265858\n"
     ]
    },
    {
     "data": {
      "text/plain": [
       "GaitClassifier(\n",
       "  (lstm): LSTM(26, 4096, batch_first=True)\n",
       "  (fc1): Linear(in_features=4096, out_features=16384, bias=True)\n",
       "  (fc2): Linear(in_features=16384, out_features=16384, bias=True)\n",
       "  (fc3): Linear(in_features=16384, out_features=4096, bias=True)\n",
       "  (fc4): Linear(in_features=4096, out_features=2, bias=True)\n",
       ")"
      ]
     },
     "execution_count": 6,
     "metadata": {},
     "output_type": "execute_result"
    }
   ],
   "source": [
    "model = GaitClassifier(26, 4096, 2)\n",
    "model = model.to(\"mps\")\n",
    "model.train()"
   ]
  },
  {
   "cell_type": "code",
   "execution_count": 7,
   "metadata": {},
   "outputs": [],
   "source": [
    "def eval():\n",
    "    correct = 0\n",
    "    total = 0\n",
    "    with torch.no_grad():\n",
    "        for data, label in tqdm(dataloader):\n",
    "            data: torch.Tensor = data.to(\"mps\")\n",
    "            label: torch.Tensor = label.to(\"mps\")\n",
    "            data = data.squeeze(0)\n",
    "            label = label.squeeze(0).float()\n",
    "            label = torch.argmax(label)\n",
    "            output = model(data)\n",
    "            predicted = torch.argmax(output)\n",
    "            total += 1\n",
    "            if label.item() == predicted.item():\n",
    "                correct += 1\n",
    "    return correct / total"
   ]
  },
  {
   "cell_type": "code",
   "execution_count": 8,
   "metadata": {},
   "outputs": [
    {
     "name": "stderr",
     "output_type": "stream",
     "text": [
      "  0%|          | 0/10 [00:00<?, ?it/s]"
     ]
    },
    {
     "name": "stdout",
     "output_type": "stream",
     "text": [
      "Epoch: 0, Loss: 0.5048663496971131, Step: 10\n",
      "Epoch: 0, Loss: 0.5132616519927978, Step: 20\n",
      "Epoch: 0, Loss: 0.4132616549730301, Step: 30\n",
      "Epoch: 0, Loss: 0.4132616549730301, Step: 40\n",
      "Epoch: 0, Loss: 0.6132616490125656, Step: 50\n",
      "Epoch: 0, Loss: 0.4132616549730301, Step: 60\n",
      "Epoch: 0, Loss: 0.6132616490125656, Step: 70\n",
      "Epoch: 0, Loss: 0.4132616549730301, Step: 80\n",
      "Epoch: 0, Loss: 0.4132616549730301, Step: 90\n",
      "Epoch: 0, Loss: 0.31326165795326233, Step: 100\n",
      "Epoch: 0, Loss: 0.7132616460323333, Step: 110\n",
      "Epoch: 0, Loss: 0.4132616549730301, Step: 120\n",
      "Epoch: 0, Loss: 0.5132616519927978, Step: 130\n",
      "Epoch: 0, Loss: 0.5132616519927978, Step: 140\n",
      "Epoch: 0, Loss: 0.6132616490125656, Step: 150\n",
      "Epoch: 0, Loss: 0.4132616549730301, Step: 160\n",
      "Epoch: 0, Loss: 0.5132616519927978, Step: 170\n",
      "Epoch: 0, Loss: 0.5132616519927978, Step: 180\n"
     ]
    },
    {
     "name": "stderr",
     "output_type": "stream",
     "text": [
      "100%|██████████| 189/189 [00:41<00:00,  4.55it/s]\n"
     ]
    },
    {
     "name": "stdout",
     "output_type": "stream",
     "text": [
      "Epoch: 0, Accuracy: 0.8306878306878307\n"
     ]
    },
    {
     "name": "stderr",
     "output_type": "stream",
     "text": [
      " 10%|█         | 1/10 [02:51<25:41, 171.23s/it]"
     ]
    },
    {
     "name": "stdout",
     "output_type": "stream",
     "text": [
      "Epoch: 1, Loss: 0.03132616579532623, Step: 190\n",
      "Epoch: 1, Loss: 0.4132616549730301, Step: 200\n"
     ]
    }
   ],
   "source": [
    "loss_datas = []\n",
    "accuracy_datas = []\n",
    "optimizer = torch.optim.Adam(model.parameters(), lr=5e-5)\n",
    "counter = 0\n",
    "criterion = nn.CrossEntropyLoss()\n",
    "run_name = \"lstm_4096_lr_5e-5\"\n",
    "for epoch in tqdm(range(10)):\n",
    "    curr_loss = 0\n",
    "    for data, label in dataloader:\n",
    "        data: torch.Tensor = data.to(\"mps\")\n",
    "        label: torch.Tensor = label.to(\"mps\")\n",
    "        data = data.squeeze(0)\n",
    "        label = label.squeeze(0).float()\n",
    "        optimizer.zero_grad()\n",
    "        output = model(data)\n",
    "        loss = criterion(output, label)\n",
    "        loss.backward()\n",
    "        optimizer.step()\n",
    "        counter += 1\n",
    "        curr_loss += loss.item()\n",
    "        loss_datas.append(loss.item())\n",
    "        if counter % 10 == 0:\n",
    "            print(f\"Epoch: {epoch}, Loss: {curr_loss / 10}, Step: {counter}\")\n",
    "            curr_loss = 0\n",
    "    # run eval\n",
    "    accuracy = eval()\n",
    "    print(f\"Epoch: {epoch}, Accuracy: {accuracy}\")\n",
    "    accuracy_datas.append(accuracy)\n",
    "    # save model\n",
    "    torch.save(model.state_dict(), f\"checkpoints/{run_name}_epoch_{epoch}.pth\")"
   ]
  },
  {
   "cell_type": "code",
   "execution_count": null,
   "metadata": {},
   "outputs": [],
   "source": []
  },
  {
   "cell_type": "code",
   "execution_count": 7,
   "metadata": {},
   "outputs": [
    {
     "name": "stderr",
     "output_type": "stream",
     "text": [
      "100%|██████████| 189/189 [00:41<00:00,  4.59it/s]"
     ]
    },
    {
     "name": "stdout",
     "output_type": "stream",
     "text": [
      "Accuracy: 83.06878306878306\n"
     ]
    },
    {
     "name": "stderr",
     "output_type": "stream",
     "text": [
      "\n"
     ]
    }
   ],
   "source": []
  },
  {
   "cell_type": "code",
   "execution_count": 8,
   "metadata": {},
   "outputs": [
    {
     "name": "stdout",
     "output_type": "stream",
     "text": [
      "Accuracy: 83.06878306878306\n"
     ]
    }
   ],
   "source": [
    "print(f\"Accuracy: {100 * correct / total}\")"
   ]
  },
  {
   "cell_type": "code",
   "execution_count": 15,
   "metadata": {},
   "outputs": [
    {
     "name": "stdout",
     "output_type": "stream",
     "text": [
      "parameter count: 470265858\n"
     ]
    }
   ],
   "source": [
    "model = GaitClassifier(26, 4096, 2)\n",
    "model.load_state_dict(torch.load(\"modeltraintest_2.pth\"), strict=True)\n",
    "model = model.to(\"mps\")"
   ]
  },
  {
   "cell_type": "code",
   "execution_count": null,
   "metadata": {},
   "outputs": [],
   "source": []
  }
 ],
 "metadata": {
  "kernelspec": {
   "display_name": "Python 3",
   "language": "python",
   "name": "python3"
  },
  "language_info": {
   "codemirror_mode": {
    "name": "ipython",
    "version": 3
   },
   "file_extension": ".py",
   "mimetype": "text/x-python",
   "name": "python",
   "nbconvert_exporter": "python",
   "pygments_lexer": "ipython3",
   "version": "3.11.4"
  },
  "orig_nbformat": 4
 },
 "nbformat": 4,
 "nbformat_minor": 2
}
